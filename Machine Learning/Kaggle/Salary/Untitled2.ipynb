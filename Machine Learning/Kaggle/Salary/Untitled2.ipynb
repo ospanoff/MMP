{
 "metadata": {
  "name": "",
  "signature": "sha256:bf267680e462b3fc6e62c17cc0bb9d6c994bae12fc1fb9ba1a614a374564e3d4"
 },
 "nbformat": 3,
 "nbformat_minor": 0,
 "worksheets": [
  {
   "cells": [
    {
     "cell_type": "code",
     "collapsed": false,
     "input": [
      "data = pandas.read_csv('predictions.csv')"
     ],
     "language": "python",
     "metadata": {},
     "outputs": [],
     "prompt_number": 130
    },
    {
     "cell_type": "code",
     "collapsed": false,
     "input": [
      "data = data.values"
     ],
     "language": "python",
     "metadata": {},
     "outputs": [],
     "prompt_number": 131
    },
    {
     "cell_type": "code",
     "collapsed": false,
     "input": [
      "data = data.astype(np.int)"
     ],
     "language": "python",
     "metadata": {},
     "outputs": [],
     "prompt_number": 132
    },
    {
     "cell_type": "code",
     "collapsed": false,
     "input": [
      "f = open(\"pred.csv\", \"w\")\n",
      "f.write('Id,Prediction\\n')\n",
      "for i in range(data[:, 1].shape[0]):\n",
      "    if data[:, 1][i] < 14000:\n",
      "        f.write(str(data[:, 0][i]) + ',14000\\n')\n",
      "    elif data[:, 1][i] > 90000:\n",
      "        f.write(str(data[:, 0][i]) + ',90000\\n')\n",
      "    elif data[:, 1][i] % 1000 >= 750:\n",
      "        f.write(str(data[:, 0][i]) + ',' + str(data[:, 1][i] // 1000 * 1000 + 1000) + '\\n')\n",
      "    elif 250 < data[:, 1][i] % 1000 < 750:\n",
      "        f.write(str(data[:, 0][i]) + ',' + str(data[:, 1][i] // 1000 * 1000 + 500) + '\\n')\n",
      "    else:\n",
      "        f.write(str(data[:, 0][i]) + ',' + str(data[:, 1][i] // 1000 * 1000) + '\\n')\n",
      "f.close()"
     ],
     "language": "python",
     "metadata": {},
     "outputs": [],
     "prompt_number": 133
    },
    {
     "cell_type": "code",
     "collapsed": false,
     "input": [],
     "language": "python",
     "metadata": {},
     "outputs": [],
     "prompt_number": 95
    },
    {
     "cell_type": "code",
     "collapsed": false,
     "input": [],
     "language": "python",
     "metadata": {},
     "outputs": []
    }
   ],
   "metadata": {}
  }
 ]
}