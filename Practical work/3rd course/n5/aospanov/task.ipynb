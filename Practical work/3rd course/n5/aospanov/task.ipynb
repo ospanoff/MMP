{
 "cells": [
  {
   "cell_type": "code",
   "execution_count": 1,
   "metadata": {
    "collapsed": false
   },
   "outputs": [],
   "source": [
    "import numpy as np\n",
    "import scipy.optimize as spo\n",
    "import pickle\n",
    "import matplotlib.pyplot as plt\n",
    "import sklearn\n",
    "from sklearn import tree, metrics, ensemble, naive_bayes\n",
    "from PIL import Image"
   ]
  },
  {
   "cell_type": "code",
   "execution_count": 2,
   "metadata": {
    "collapsed": false
   },
   "outputs": [],
   "source": [
    "%matplotlib inline\n",
    "%load_ext autoreload\n",
    "%autoreload 1\n",
    "%aimport sample_patches\n",
    "%aimport gradient\n",
    "%aimport autoencoder\n",
    "%aimport display_layer"
   ]
  },
  {
   "cell_type": "code",
   "execution_count": 3,
   "metadata": {
    "collapsed": false
   },
   "outputs": [],
   "source": [
    "testFile = open('data/test.pk', 'rb')\n",
    "test = pickle.load(testFile)\n",
    "testFile.close()"
   ]
  },
  {
   "cell_type": "code",
   "execution_count": 4,
   "metadata": {
    "collapsed": false
   },
   "outputs": [],
   "source": [
    "trainFile = open('data/train.pk', 'rb')\n",
    "train = pickle.load(trainFile)\n",
    "trainFile.close()"
   ]
  },
  {
   "cell_type": "code",
   "execution_count": null,
   "metadata": {
    "collapsed": false
   },
   "outputs": [],
   "source": [
    "unlabeled = np.empty((5 * 20000, 27648))\n",
    "for i in range(5):\n",
    "    unlFile = open('data/X' + str(i + 1) + '.pk', 'rb')\n",
    "    unlabeled[20000 * i: 20000 * (i + 1)] = pickle.load(unlFile)\n",
    "    unlFile.close()"
   ]
  },
  {
   "cell_type": "markdown",
   "metadata": {},
   "source": [
    "## Подготовка"
   ]
  },
  {
   "cell_type": "code",
   "execution_count": null,
   "metadata": {
    "collapsed": false
   },
   "outputs": [],
   "source": [
    "# display_layer.display_layer(unlabeled, 'pic/unlabeled.jpg') # save images in one file"
   ]
  },
  {
   "cell_type": "code",
   "execution_count": null,
   "metadata": {
    "collapsed": false
   },
   "outputs": [],
   "source": [
    "# patches = sample_patches.sample_patches_raw(unlabeled) # make patches without normalizing\n",
    "# display_layer.display_layer(patches, 'pic/patches.png') # save patches to file"
   ]
  },
  {
   "cell_type": "code",
   "execution_count": null,
   "metadata": {
    "collapsed": false
   },
   "outputs": [],
   "source": [
    "# patches_normal = sample_patches.normalize_data(patches) # normalize patches (not using sample_patch func for testing)\n",
    "# display_layer.display_layer(patches_normal * 255, 'pic/patches_normal.png') # save normalized patches"
   ]
  },
  {
   "cell_type": "code",
   "execution_count": null,
   "metadata": {
    "collapsed": false
   },
   "outputs": [],
   "source": [
    "# gradient.check_gradient() # check compute_gradient function"
   ]
  },
  {
   "cell_type": "markdown",
   "metadata": {},
   "source": [
    "#### Выделение патчей"
   ]
  },
  {
   "cell_type": "code",
   "execution_count": 6,
   "metadata": {
    "collapsed": false
   },
   "outputs": [],
   "source": [
    "patches_normal = sample_patches.sample_patches(unlabeled)\n",
    "del(unlabeled)\n",
    "display_layer.display_layer(patches_normal * 255, 'pic/patches_normal.png') # save normalized patches"
   ]
  },
  {
   "cell_type": "markdown",
   "metadata": {},
   "source": [
    "#### Проверка градиента функции потерь"
   ]
  },
  {
   "cell_type": "code",
   "execution_count": 38,
   "metadata": {
    "collapsed": false
   },
   "outputs": [
    {
     "name": "stdout",
     "output_type": "stream",
     "text": [
      "CPU times: user 4.07 ms, sys: 714 µs, total: 4.79 ms\n",
      "Wall time: 4.5 ms\n"
     ]
    },
    {
     "data": {
      "text/plain": [
       "1.036033250301216e-07"
      ]
     },
     "execution_count": 38,
     "metadata": {},
     "output_type": "execute_result"
    }
   ],
   "source": [
    "# Check gradient\n",
    "N = 1000\n",
    "hs = [10, 8, 10]\n",
    "vs = 25\n",
    "t = autoencoder.initialize(np.array(hs), vs)\n",
    "J = lambda x : autoencoder.autoencoder_loss(patches_normal[:N, :vs], x, vs, np.array(hs), onlyJ=True)\n",
    "gr = gradient.compute_gradient(J, t)\n",
    "%time grad = autoencoder.autoencoder_loss(patches_normal[:N, :vs], t, vs, np.array(hs))\n",
    "np.max(np.abs(gr - grad[1]))"
   ]
  },
  {
   "cell_type": "markdown",
   "metadata": {},
   "source": [
    "## Обучение разреженного автокодировщика"
   ]
  },
  {
   "cell_type": "code",
   "execution_count": 7,
   "metadata": {
    "collapsed": false
   },
   "outputs": [],
   "source": [
    "loss = lambda x : autoencoder.autoencoder_loss(patches_normal, x, 192, np.array([75]), beta=0.3)"
   ]
  },
  {
   "cell_type": "code",
   "execution_count": 8,
   "metadata": {
    "collapsed": false
   },
   "outputs": [],
   "source": [
    "t = autoencoder.initialize(np.array([75]), 192)"
   ]
  },
  {
   "cell_type": "code",
   "execution_count": 9,
   "metadata": {
    "collapsed": false
   },
   "outputs": [
    {
     "name": "stdout",
     "output_type": "stream",
     "text": [
      "CPU times: user 46min 50s, sys: 12min 10s, total: 59min\n",
      "Wall time: 43min 34s\n"
     ]
    }
   ],
   "source": [
    "%time minim = spo.minimize(loss, t, method='L-BFGS-B', jac=True, options={'maxiter': 10000, 'disp': True})"
   ]
  },
  {
   "cell_type": "code",
   "execution_count": 12,
   "metadata": {
    "collapsed": false
   },
   "outputs": [],
   "source": [
    "# np.savetxt(\"theta.csv\", minim.x, delimiter=\",\") # backup optimal theta\n",
    "import pandas\n",
    "theta = pandas.read_csv('theta.csv', header=None).values.ravel() # read backed up theta"
   ]
  },
  {
   "cell_type": "markdown",
   "metadata": {},
   "source": [
    "## Визуализация"
   ]
  },
  {
   "cell_type": "code",
   "execution_count": 15,
   "metadata": {
    "collapsed": false
   },
   "outputs": [],
   "source": [
    "i = np.copy(minim.x)\n",
    "i = i[:192 * 75].reshape(192, -1)\n",
    "i /= np.sqrt(np.sum(i ** 2, axis=0))\n",
    "imax = np.max(i, axis=0)\n",
    "imin = np.min(i, axis=0)\n",
    "img = ((i - imin) / (imax - imin))"
   ]
  },
  {
   "cell_type": "code",
   "execution_count": 16,
   "metadata": {
    "collapsed": false
   },
   "outputs": [],
   "source": [
    "display_layer.display_layer(img.T * 255, 'pic/hidden.png') # pic of hidden layer"
   ]
  },
  {
   "cell_type": "markdown",
   "metadata": {},
   "source": [
    "## Обучение классификатора на данных сокращенной размерности"
   ]
  },
  {
   "cell_type": "markdown",
   "metadata": {},
   "source": [
    "Для классификации был выбран метод RandomForest, так как этот классификатор дает самую большую точность из всех перепробованных (SVM-Linear, SVM-RBF, kNN, DesTree) и работает быстро"
   ]
  },
  {
   "cell_type": "code",
   "execution_count": 14,
   "metadata": {
    "collapsed": false
   },
   "outputs": [],
   "source": [
    "def getPachedData(train, test, theta, patchStep=6, visible_size=192, hidden_size=np.array([75]), layer_number=2):\n",
    "    oneRowPatchNum = (96 - 8) // patchStep + 1\n",
    "    patchNum = oneRowPatchNum ** 2 # * (96 // 8)\n",
    "\n",
    "    patchSize = hidden_size[layer_number - 2]\n",
    "    \n",
    "    patchedTrain = np.empty((train.shape[0], patchSize * patchNum))\n",
    "    patchedTest = np.empty((test.shape[0], patchSize * patchNum))\n",
    "    imgTrain = train.reshape(train.shape[0], 96, 96, 3)\n",
    "    imgTest = test.reshape(test.shape[0], 96, 96, 3)\n",
    "    \n",
    "    for i in range(patchNum):\n",
    "        row = (i // oneRowPatchNum) * patchStep # * 8\n",
    "        column = (i % oneRowPatchNum) * patchStep\n",
    "        patchedTrain[:, patchSize * i: patchSize * (i + 1)] = autoencoder.autoencoder_transform(\n",
    "            theta, visible_size, hidden_size, layer_number, sample_patches.normalize_data(\n",
    "            imgTrain[:, row: row + 8, column: column + 8].reshape(-1, 192)))\n",
    "\n",
    "        patchedTest[:, patchSize * i: patchSize * (i + 1)] = autoencoder.autoencoder_transform(\n",
    "            theta, visible_size, hidden_size, layer_number, sample_patches.normalize_data(\n",
    "            imgTest[:, row: row + 8, column: column + 8].reshape(-1, 192)))\n",
    "    return patchedTrain, patchedTest"
   ]
  },
  {
   "cell_type": "code",
   "execution_count": 15,
   "metadata": {
    "collapsed": false
   },
   "outputs": [],
   "source": [
    "rForest = sklearn.ensemble.RandomForestClassifier()"
   ]
  },
  {
   "cell_type": "code",
   "execution_count": 12,
   "metadata": {
    "collapsed": false
   },
   "outputs": [
    {
     "data": {
      "text/plain": [
       "RandomForestClassifier(bootstrap=True, class_weight=None, criterion='gini',\n",
       "            max_depth=None, max_features='auto', max_leaf_nodes=None,\n",
       "            min_samples_leaf=1, min_samples_split=2,\n",
       "            min_weight_fraction_leaf=0.0, n_estimators=10, n_jobs=1,\n",
       "            oob_score=False, random_state=None, verbose=0,\n",
       "            warm_start=False)"
      ]
     },
     "execution_count": 12,
     "metadata": {},
     "output_type": "execute_result"
    }
   ],
   "source": [
    "rForest.fit(train['X'], train['y'].ravel())"
   ]
  },
  {
   "cell_type": "code",
   "execution_count": 13,
   "metadata": {
    "collapsed": false
   },
   "outputs": [],
   "source": [
    "predLbls = rForest.predict(test['X'])"
   ]
  },
  {
   "cell_type": "code",
   "execution_count": 14,
   "metadata": {
    "collapsed": false
   },
   "outputs": [
    {
     "name": "stdout",
     "output_type": "stream",
     "text": [
      "Точность на исходных данных: 0.333375\n"
     ]
    }
   ],
   "source": [
    "print(\"Точность на исходных данных:\", sklearn.metrics.accuracy_score(test['y'].ravel(), predLbls))"
   ]
  },
  {
   "cell_type": "code",
   "execution_count": 16,
   "metadata": {
    "collapsed": true
   },
   "outputs": [],
   "source": [
    "nb = sklearn.naive_bayes.GaussianNB()"
   ]
  },
  {
   "cell_type": "code",
   "execution_count": 17,
   "metadata": {
    "collapsed": false
   },
   "outputs": [
    {
     "data": {
      "text/plain": [
       "GaussianNB()"
      ]
     },
     "execution_count": 17,
     "metadata": {},
     "output_type": "execute_result"
    }
   ],
   "source": [
    "nb.fit(train['X'], train['y'].ravel())"
   ]
  },
  {
   "cell_type": "code",
   "execution_count": 18,
   "metadata": {
    "collapsed": true
   },
   "outputs": [],
   "source": [
    "predLbls = nb.predict(test['X'])"
   ]
  },
  {
   "cell_type": "code",
   "execution_count": 19,
   "metadata": {
    "collapsed": false
   },
   "outputs": [
    {
     "name": "stdout",
     "output_type": "stream",
     "text": [
      "Точность на исходных данных (байесовский классификатор): 0.323875\n"
     ]
    }
   ],
   "source": [
    "print(\"Точность на исходных данных (байесовский классификатор):\", sklearn.metrics.accuracy_score(test['y'].ravel(), predLbls))"
   ]
  },
  {
   "cell_type": "markdown",
   "metadata": {},
   "source": [
    "#### Сеть с одним скрытым слоем"
   ]
  },
  {
   "cell_type": "code",
   "execution_count": 41,
   "metadata": {
    "collapsed": false
   },
   "outputs": [
    {
     "name": "stdout",
     "output_type": "stream",
     "text": [
      "CPU times: user 11.2 s, sys: 3.1 s, total: 14.3 s\n",
      "Wall time: 11.9 s\n"
     ]
    }
   ],
   "source": [
    "%time patchedTrain, patchedTest = getPachedData(train['X'], test['X'], theta, patchStep=10)"
   ]
  },
  {
   "cell_type": "code",
   "execution_count": 42,
   "metadata": {
    "collapsed": false
   },
   "outputs": [
    {
     "data": {
      "text/plain": [
       "RandomForestClassifier(bootstrap=True, class_weight=None, criterion='gini',\n",
       "            max_depth=None, max_features='auto', max_leaf_nodes=None,\n",
       "            min_samples_leaf=1, min_samples_split=2,\n",
       "            min_weight_fraction_leaf=0.0, n_estimators=10, n_jobs=1,\n",
       "            oob_score=False, random_state=None, verbose=0,\n",
       "            warm_start=False)"
      ]
     },
     "execution_count": 42,
     "metadata": {},
     "output_type": "execute_result"
    }
   ],
   "source": [
    "rForest.fit(patchedTrain, train['y'].ravel())"
   ]
  },
  {
   "cell_type": "code",
   "execution_count": 43,
   "metadata": {
    "collapsed": false
   },
   "outputs": [],
   "source": [
    "predLbls = rForest.predict(patchedTest)"
   ]
  },
  {
   "cell_type": "code",
   "execution_count": 22,
   "metadata": {
    "collapsed": false
   },
   "outputs": [
    {
     "name": "stdout",
     "output_type": "stream",
     "text": [
      "Точность на данных сокращенной размерности при шаге 4: 0.342375\n"
     ]
    }
   ],
   "source": [
    "print(\"Точность на данных сокращенной размерности при шаге 4:\", sklearn.metrics.accuracy_score(test['y'].ravel(), predLbls))"
   ]
  },
  {
   "cell_type": "code",
   "execution_count": 30,
   "metadata": {
    "collapsed": false
   },
   "outputs": [
    {
     "name": "stdout",
     "output_type": "stream",
     "text": [
      "Точность на данных сокращенной размерности при шаге 6: 0.328\n"
     ]
    }
   ],
   "source": [
    "print(\"Точность на данных сокращенной размерности при шаге 6:\", sklearn.metrics.accuracy_score(test['y'].ravel(), predLbls))"
   ]
  },
  {
   "cell_type": "code",
   "execution_count": 44,
   "metadata": {
    "collapsed": false
   },
   "outputs": [
    {
     "name": "stdout",
     "output_type": "stream",
     "text": [
      "Точность на данных сокращенной размерности при шаге 10: 0.32425\n"
     ]
    }
   ],
   "source": [
    "print(\"Точность на данных сокращенной размерности при шаге 10:\", sklearn.metrics.accuracy_score(test['y'].ravel(), predLbls))"
   ]
  },
  {
   "cell_type": "code",
   "execution_count": null,
   "metadata": {
    "collapsed": true
   },
   "outputs": [],
   "source": []
  },
  {
   "cell_type": "code",
   "execution_count": 45,
   "metadata": {
    "collapsed": false
   },
   "outputs": [
    {
     "data": {
      "text/plain": [
       "GaussianNB()"
      ]
     },
     "execution_count": 45,
     "metadata": {},
     "output_type": "execute_result"
    }
   ],
   "source": [
    "nb.fit(patchedTrain, train['y'].ravel())"
   ]
  },
  {
   "cell_type": "code",
   "execution_count": 46,
   "metadata": {
    "collapsed": true
   },
   "outputs": [],
   "source": [
    "predLbls = nb.predict(patchedTest)"
   ]
  },
  {
   "cell_type": "code",
   "execution_count": 25,
   "metadata": {
    "collapsed": false
   },
   "outputs": [
    {
     "name": "stdout",
     "output_type": "stream",
     "text": [
      "Точность на данных сокращенной размерности при шаге 4 (NB): 0.424375\n"
     ]
    }
   ],
   "source": [
    "print(\"Точность на данных сокращенной размерности при шаге 4 (NB):\", sklearn.metrics.accuracy_score(test['y'].ravel(), predLbls))"
   ]
  },
  {
   "cell_type": "code",
   "execution_count": 33,
   "metadata": {
    "collapsed": false
   },
   "outputs": [
    {
     "name": "stdout",
     "output_type": "stream",
     "text": [
      "Точность на данных сокращенной размерности при шаге 6 (NB): 0.41775\n"
     ]
    }
   ],
   "source": [
    "print(\"Точность на данных сокращенной размерности при шаге 6 (NB):\", sklearn.metrics.accuracy_score(test['y'].ravel(), predLbls))"
   ]
  },
  {
   "cell_type": "code",
   "execution_count": 47,
   "metadata": {
    "collapsed": false
   },
   "outputs": [
    {
     "name": "stdout",
     "output_type": "stream",
     "text": [
      "Точность на данных сокращенной размерности при шаге 10 (NB): 0.39525\n"
     ]
    }
   ],
   "source": [
    "print(\"Точность на данных сокращенной размерности при шаге 10 (NB):\", sklearn.metrics.accuracy_score(test['y'].ravel(), predLbls))"
   ]
  },
  {
   "cell_type": "code",
   "execution_count": null,
   "metadata": {
    "collapsed": true
   },
   "outputs": [],
   "source": []
  },
  {
   "cell_type": "code",
   "execution_count": 48,
   "metadata": {
    "collapsed": false
   },
   "outputs": [],
   "source": [
    "del(patchedTrain, patchedTest)"
   ]
  },
  {
   "cell_type": "markdown",
   "metadata": {},
   "source": [
    "#### Сеть с тремя скрытыми слоями"
   ]
  },
  {
   "cell_type": "code",
   "execution_count": 16,
   "metadata": {
    "collapsed": false
   },
   "outputs": [],
   "source": [
    "# import pandas\n",
    "# theta = pandas.read_csv('theta.csv', header=None).values.ravel() # read backed up theta"
   ]
  },
  {
   "cell_type": "code",
   "execution_count": 68,
   "metadata": {
    "collapsed": false
   },
   "outputs": [],
   "source": [
    "patchStep = 10\n",
    "visible_size = 192\n",
    "hidden_size = np.array([108, 75, 108])\n",
    "layer_number = 3\n",
    "oneRowPatchNum = (96 - 8) // patchStep + 1\n",
    "patchNum = oneRowPatchNum ** 2 # * (96 // 8)\n",
    "\n",
    "patchSize = hidden_size[layer_number - 2]\n",
    "    \n",
    "patchedTrain = np.empty((train['X'].shape[0], patchSize * patchNum))\n",
    "patchedTest = np.empty((test['X'].shape[0], patchSize * patchNum))\n",
    "imgTrain = train['X'].reshape(train['X'].shape[0], 96, 96, 3)\n",
    "imgTest = test['X'].reshape(test['X'].shape[0], 96, 96, 3)\n",
    "\n",
    "for i in range(patchNum):\n",
    "    row = (i // oneRowPatchNum) * patchStep # * 8\n",
    "    column = (i % oneRowPatchNum) * patchStep\n",
    "    patchedTrain[:, patchSize * i: patchSize * (i + 1)] = autoencoder.autoencoder_transform(\n",
    "        theta, visible_size, hidden_size, layer_number, sample_patches.normalize_data(\n",
    "        imgTrain[:, row: row + 8, column: column + 8].reshape(-1, 192)))\n",
    "\n",
    "    patchedTest[:, patchSize * i: patchSize * (i + 1)] = autoencoder.autoencoder_transform(\n",
    "        theta, visible_size, hidden_size, layer_number, sample_patches.normalize_data(\n",
    "        imgTest[:, row: row + 8, column: column + 8].reshape(-1, 192)))"
   ]
  },
  {
   "cell_type": "code",
   "execution_count": 69,
   "metadata": {
    "collapsed": false
   },
   "outputs": [
    {
     "data": {
      "text/plain": [
       "RandomForestClassifier(bootstrap=True, class_weight=None, criterion='gini',\n",
       "            max_depth=None, max_features='auto', max_leaf_nodes=None,\n",
       "            min_samples_leaf=1, min_samples_split=2,\n",
       "            min_weight_fraction_leaf=0.0, n_estimators=10, n_jobs=1,\n",
       "            oob_score=False, random_state=None, verbose=0,\n",
       "            warm_start=False)"
      ]
     },
     "execution_count": 69,
     "metadata": {},
     "output_type": "execute_result"
    }
   ],
   "source": [
    "rForest.fit(patchedTrain, train['y'].ravel())"
   ]
  },
  {
   "cell_type": "code",
   "execution_count": 70,
   "metadata": {
    "collapsed": false
   },
   "outputs": [],
   "source": [
    "predLbls = rForest.predict(patchedTest)"
   ]
  },
  {
   "cell_type": "code",
   "execution_count": 55,
   "metadata": {
    "collapsed": false
   },
   "outputs": [
    {
     "name": "stdout",
     "output_type": "stream",
     "text": [
      "Точность на данных сокращенной размерности при шаге 4: 0.293625\n"
     ]
    }
   ],
   "source": [
    "print(\"Точность на данных сокращенной размерности при шаге 4:\", sklearn.metrics.accuracy_score(test['y'].ravel(), predLbls))"
   ]
  },
  {
   "cell_type": "code",
   "execution_count": 63,
   "metadata": {
    "collapsed": false
   },
   "outputs": [
    {
     "name": "stdout",
     "output_type": "stream",
     "text": [
      "Точность на данных сокращенной размерности при шаге 6: 0.286625\n"
     ]
    }
   ],
   "source": [
    "print(\"Точность на данных сокращенной размерности при шаге 6:\", sklearn.metrics.accuracy_score(test['y'].ravel(), predLbls))"
   ]
  },
  {
   "cell_type": "code",
   "execution_count": 71,
   "metadata": {
    "collapsed": false
   },
   "outputs": [
    {
     "name": "stdout",
     "output_type": "stream",
     "text": [
      "Точность на данных сокращенной размерности при шаге 10: 0.274375\n"
     ]
    }
   ],
   "source": [
    "print(\"Точность на данных сокращенной размерности при шаге 10:\", sklearn.metrics.accuracy_score(test['y'].ravel(), predLbls))"
   ]
  },
  {
   "cell_type": "code",
   "execution_count": null,
   "metadata": {
    "collapsed": true
   },
   "outputs": [],
   "source": []
  },
  {
   "cell_type": "code",
   "execution_count": 72,
   "metadata": {
    "collapsed": false
   },
   "outputs": [
    {
     "data": {
      "text/plain": [
       "GaussianNB()"
      ]
     },
     "execution_count": 72,
     "metadata": {},
     "output_type": "execute_result"
    }
   ],
   "source": [
    "nb.fit(patchedTrain, train['y'].ravel())"
   ]
  },
  {
   "cell_type": "code",
   "execution_count": 73,
   "metadata": {
    "collapsed": true
   },
   "outputs": [],
   "source": [
    "predLbls = nb.predict(patchedTest)"
   ]
  },
  {
   "cell_type": "code",
   "execution_count": 58,
   "metadata": {
    "collapsed": false
   },
   "outputs": [
    {
     "name": "stdout",
     "output_type": "stream",
     "text": [
      "Точность на данных сокращенной размерности при шаге 4 (NB): 0.328625\n"
     ]
    }
   ],
   "source": [
    "print(\"Точность на данных сокращенной размерности при шаге 4 (NB):\", sklearn.metrics.accuracy_score(test['y'].ravel(), predLbls))"
   ]
  },
  {
   "cell_type": "code",
   "execution_count": 66,
   "metadata": {
    "collapsed": false
   },
   "outputs": [
    {
     "name": "stdout",
     "output_type": "stream",
     "text": [
      "Точность на данных сокращенной размерности при шаге 6 (NB): 0.319875\n"
     ]
    }
   ],
   "source": [
    "print(\"Точность на данных сокращенной размерности при шаге 6 (NB):\", sklearn.metrics.accuracy_score(test['y'].ravel(), predLbls))"
   ]
  },
  {
   "cell_type": "code",
   "execution_count": 74,
   "metadata": {
    "collapsed": false
   },
   "outputs": [
    {
     "name": "stdout",
     "output_type": "stream",
     "text": [
      "Точность на данных сокращенной размерности при шаге 10 (NB): 0.309375\n"
     ]
    }
   ],
   "source": [
    "print(\"Точность на данных сокращенной размерности при шаге 10 (NB):\", sklearn.metrics.accuracy_score(test['y'].ravel(), predLbls))"
   ]
  },
  {
   "cell_type": "code",
   "execution_count": null,
   "metadata": {
    "collapsed": true
   },
   "outputs": [],
   "source": []
  },
  {
   "cell_type": "code",
   "execution_count": 75,
   "metadata": {
    "collapsed": false
   },
   "outputs": [],
   "source": [
    "del(patchedTest, patchedTrain)"
   ]
  },
  {
   "cell_type": "markdown",
   "metadata": {},
   "source": [
    "### Зависимость качества классификации от количества патчей"
   ]
  },
  {
   "cell_type": "code",
   "execution_count": 21,
   "metadata": {
    "collapsed": false
   },
   "outputs": [],
   "source": [
    "res = np.zeros(6)"
   ]
  },
  {
   "cell_type": "code",
   "execution_count": 52,
   "metadata": {
    "collapsed": false
   },
   "outputs": [],
   "source": [
    "patches_normal = sample_patches.sample_patches(unlabeled, 6000)\n",
    "del(unlabeled)\n",
    "# display_layer.display_layer(patches_normal * 255, 'pic/patches_normal.png') # save normalized patches"
   ]
  },
  {
   "cell_type": "code",
   "execution_count": 11,
   "metadata": {
    "collapsed": false
   },
   "outputs": [],
   "source": [
    "loss = lambda x : autoencoder.autoencoder_loss(patches_normal, x, 192, np.array([75]), beta=0.3)"
   ]
  },
  {
   "cell_type": "code",
   "execution_count": 53,
   "metadata": {
    "collapsed": false
   },
   "outputs": [],
   "source": [
    "t = autoencoder.initialize(np.array([75]), 192)"
   ]
  },
  {
   "cell_type": "code",
   "execution_count": 54,
   "metadata": {
    "collapsed": false
   },
   "outputs": [
    {
     "name": "stdout",
     "output_type": "stream",
     "text": [
      "CPU times: user 32min 14s, sys: 9min 2s, total: 41min 17s\n",
      "Wall time: 36min 54s\n"
     ]
    }
   ],
   "source": [
    "%time minim = spo.minimize(loss, t, method='L-BFGS-B', jac=True, options={'maxiter': 10000, 'disp': True})"
   ]
  },
  {
   "cell_type": "code",
   "execution_count": 55,
   "metadata": {
    "collapsed": false
   },
   "outputs": [],
   "source": [
    "i = np.copy(minim.x)\n",
    "i = i[:192 * 75].reshape(192, -1)\n",
    "i /= np.sqrt(np.sum(i ** 2, axis=0))\n",
    "imax = np.max(i, axis=0)\n",
    "imin = np.min(i, axis=0)\n",
    "img = ((i - imin) / (imax - imin))\n",
    "display_layer.display_layer(img.T * 255, 'pic/hidden_6000.png') # pic of hidden layer"
   ]
  },
  {
   "cell_type": "code",
   "execution_count": 56,
   "metadata": {
    "collapsed": false
   },
   "outputs": [],
   "source": [
    "theta = minim.x\n",
    "patchStep = 4\n",
    "visible_size = 192\n",
    "hidden_size = np.array([75])\n",
    "layer_number = 2\n",
    "oneRowPatchNum = (96 - 8) // patchStep + 1\n",
    "patchNum = oneRowPatchNum ** 2 # * (96 // 8)\n",
    "\n",
    "patchSize = hidden_size[layer_number - 2]\n",
    "    \n",
    "patchedTrain = np.empty((train['X'].shape[0], patchSize * patchNum))\n",
    "patchedTest = np.empty((test['X'].shape[0], patchSize * patchNum))\n",
    "imgTrain = train['X'].reshape(train['X'].shape[0], 96, 96, 3)\n",
    "imgTest = test['X'].reshape(test['X'].shape[0], 96, 96, 3)\n",
    "\n",
    "for i in range(patchNum):\n",
    "    row = (i // oneRowPatchNum) * patchStep # * 8\n",
    "    column = (i % oneRowPatchNum) * patchStep\n",
    "    patchedTrain[:, patchSize * i: patchSize * (i + 1)] = autoencoder.autoencoder_transform(\n",
    "        theta, visible_size, hidden_size, layer_number, sample_patches.normalize_data(\n",
    "        imgTrain[:, row: row + 8, column: column + 8].reshape(-1, 192)))\n",
    "\n",
    "    patchedTest[:, patchSize * i: patchSize * (i + 1)] = autoencoder.autoencoder_transform(\n",
    "        theta, visible_size, hidden_size, layer_number, sample_patches.normalize_data(\n",
    "        imgTest[:, row: row + 8, column: column + 8].reshape(-1, 192)))\n",
    "del(imgTrain, imgTest)"
   ]
  },
  {
   "cell_type": "code",
   "execution_count": 57,
   "metadata": {
    "collapsed": false
   },
   "outputs": [
    {
     "data": {
      "text/plain": [
       "RandomForestClassifier(bootstrap=True, compute_importances=None,\n",
       "            criterion='gini', max_depth=None, max_features='auto',\n",
       "            max_leaf_nodes=None, min_density=None, min_samples_leaf=1,\n",
       "            min_samples_split=2, n_estimators=10, n_jobs=1,\n",
       "            oob_score=False, random_state=None, verbose=0)"
      ]
     },
     "execution_count": 57,
     "metadata": {},
     "output_type": "execute_result"
    }
   ],
   "source": [
    "rForest.fit(patchedTrain, train['y'].ravel())"
   ]
  },
  {
   "cell_type": "code",
   "execution_count": 58,
   "metadata": {
    "collapsed": false
   },
   "outputs": [],
   "source": [
    "predLbls = rForest.predict(patchedTest)"
   ]
  },
  {
   "cell_type": "code",
   "execution_count": 59,
   "metadata": {
    "collapsed": false
   },
   "outputs": [],
   "source": [
    "res[4] = sklearn.metrics.accuracy_score(test['y'].ravel(), predLbls)"
   ]
  },
  {
   "cell_type": "code",
   "execution_count": 24,
   "metadata": {
    "collapsed": false
   },
   "outputs": [
    {
     "name": "stdout",
     "output_type": "stream",
     "text": [
      "Точность на 100 патчах: 0.326125\n"
     ]
    }
   ],
   "source": [
    "print(\"Точность на 100 патчах:\", res[0])"
   ]
  },
  {
   "cell_type": "code",
   "execution_count": 33,
   "metadata": {
    "collapsed": false
   },
   "outputs": [
    {
     "name": "stdout",
     "output_type": "stream",
     "text": [
      "Точность на 500 патчах: 0.327375\n"
     ]
    }
   ],
   "source": [
    "print(\"Точность на 500 патчах:\", res[1])"
   ]
  },
  {
   "cell_type": "code",
   "execution_count": 42,
   "metadata": {
    "collapsed": false
   },
   "outputs": [
    {
     "name": "stdout",
     "output_type": "stream",
     "text": [
      "Точность на 1000 патчах: 0.325625\n"
     ]
    }
   ],
   "source": [
    "print(\"Точность на 1000 патчах:\", res[2])"
   ]
  },
  {
   "cell_type": "code",
   "execution_count": 51,
   "metadata": {
    "collapsed": false
   },
   "outputs": [
    {
     "name": "stdout",
     "output_type": "stream",
     "text": [
      "Точность на 3000 патчах: 0.326125\n"
     ]
    }
   ],
   "source": [
    "print(\"Точность на 3000 патчах:\", res[3])"
   ]
  },
  {
   "cell_type": "code",
   "execution_count": 60,
   "metadata": {
    "collapsed": false
   },
   "outputs": [
    {
     "name": "stdout",
     "output_type": "stream",
     "text": [
      "Точность на 6000 патчах: 0.337375\n"
     ]
    }
   ],
   "source": [
    "print(\"Точность на 6000 патчах:\", res[4])"
   ]
  },
  {
   "cell_type": "code",
   "execution_count": 61,
   "metadata": {
    "collapsed": false
   },
   "outputs": [],
   "source": [
    "res[5] = 0.345875"
   ]
  },
  {
   "cell_type": "code",
   "execution_count": 4,
   "metadata": {
    "collapsed": false
   },
   "outputs": [
    {
     "data": {
      "text/plain": [
       "[<matplotlib.lines.Line2D at 0x1194d3668>]"
      ]
     },
     "execution_count": 4,
     "metadata": {},
     "output_type": "execute_result"
    },
    {
     "data": {
      "image/png": "[encoded data removed]",
      "text/plain": [
       "<matplotlib.figure.Figure at 0x1194d35c0>"
      ]
     },
     "metadata": {},
     "output_type": "display_data"
    }
   ],
   "source": [
    "plt.ylim(0.31, 0.37)\n",
    "plt.ylabel('Accuracy')\n",
    "plt.xlabel('Patch number')\n",
    "plt.plot(res)"
   ]
  },
  {
   "cell_type": "code",
   "execution_count": null,
   "metadata": {
    "collapsed": false
   },
   "outputs": [],
   "source": []
  }
 ],
 "metadata": {
  "kernelspec": {
   "display_name": "Python 3",
   "language": "python",
   "name": "python3"
  },
  "language_info": {
   "codemirror_mode": {
    "name": "ipython",
    "version": 3
   },
   "file_extension": ".py",
   "mimetype": "text/x-python",
   "name": "python",
   "nbconvert_exporter": "python",
   "pygments_lexer": "ipython3",
   "version": "3.4.3"
  }
 },
 "nbformat": 4,
 "nbformat_minor": 0
}
