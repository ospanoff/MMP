{
 "cells": [
  {
   "cell_type": "code",
   "execution_count": 1,
   "metadata": {
    "collapsed": true
   },
   "outputs": [],
   "source": [
    "import zipfile as zf\n",
    "import numpy as np\n",
    "import matplotlib.pyplot as plt"
   ]
  },
  {
   "cell_type": "code",
   "execution_count": 2,
   "metadata": {
    "collapsed": true
   },
   "outputs": [],
   "source": [
    "%matplotlib inline"
   ]
  },
  {
   "cell_type": "markdown",
   "metadata": {},
   "source": [
    "###Generate main data"
   ]
  },
  {
   "cell_type": "markdown",
   "metadata": {},
   "source": [
    "Изначально данные из файлов users.dat, movies.dat, ratings.dat были считаны в numpy.ndarray - users, movies, ratings соответственно. Далее каждая таблица была бинаризована:\n",
    "\n",
    "* usr_bin: UserID | Age1 ... Age7 | Profession1 ... Profession21 | Male | Female\n",
    "* mov_bin: MovieId | Genre1 ... Genre18 | epoch1 ... epoch8 (every ten years) | movie lenght (normalized to [0.1, 0.9])\n",
    "* rat_bin: UserID | MovieID | Genre-based feature | User avegare rating | User info (from usr_bin) | Movie info (from mov_bin) | Movie avegare rating | Constant\n",
    "\n",
    "В конечном итоге из всех данных будут использоватся матрицы rat_bin и ratings. Остальные были созданы для промежуточного использования для более легкой обработки данных.\n",
    "\n",
    "В качестве дополнительных признаков были взяты:\n",
    "* Год, отнесенный к десятилетию (для 1919-2000 годов были выделены 8 десятилетий, не 9 потому, что 1919 отнесен к тому же десятилетию, что и 1920)\n",
    "* Длина названия фильма, нормированный к отрезку [0.1, 0.9]"
   ]
  },
  {
   "cell_type": "markdown",
   "metadata": {},
   "source": [
    "#####Opening zip"
   ]
  },
  {
   "cell_type": "code",
   "execution_count": 3,
   "metadata": {
    "collapsed": false
   },
   "outputs": [],
   "source": [
    "z = zf.ZipFile('ml-1m.zip')"
   ]
  },
  {
   "cell_type": "markdown",
   "metadata": {},
   "source": [
    "#####Getting data"
   ]
  },
  {
   "cell_type": "markdown",
   "metadata": {},
   "source": [
    "Users' information\n",
    "* UserID, Gender (1 is M), Age, Occupation"
   ]
  },
  {
   "cell_type": "code",
   "execution_count": 4,
   "metadata": {
    "collapsed": false
   },
   "outputs": [],
   "source": [
    "f = z.open('ml-1m/users.dat')\n",
    "tmp = f.read()\n",
    "tmp = tmp.decode()\n",
    "users = np.array([np.array(t.split('::'))[: -1] for t in tmp.splitlines()]) # Zip-code not used\n",
    "users[:, 1] = (users[:, 1] == 'M').astype(np.int)\n",
    "users = users.astype(np.int)\n",
    "f.close()"
   ]
  },
  {
   "cell_type": "markdown",
   "metadata": {},
   "source": [
    "Movies' information\n",
    "* MovieID, Title, Genres"
   ]
  },
  {
   "cell_type": "code",
   "execution_count": 5,
   "metadata": {
    "collapsed": false
   },
   "outputs": [],
   "source": [
    "f = z.open('ml-1m/movies.dat')\n",
    "tmp = f.read()\n",
    "tmp = tmp.decode('latin')\n",
    "movies = np.array([np.array(t.split('::')) for t in tmp.splitlines()])\n",
    "f.close()"
   ]
  },
  {
   "cell_type": "markdown",
   "metadata": {},
   "source": [
    "Ratings' information\n",
    "* UserID, MovieID, Rating, Timestamp"
   ]
  },
  {
   "cell_type": "code",
   "execution_count": 6,
   "metadata": {
    "collapsed": false
   },
   "outputs": [],
   "source": [
    "f = z.open('ml-1m/ratings.dat')\n",
    "tmp = f.read()\n",
    "tmp = tmp.decode()\n",
    "ratings = np.array([np.array(t.split('::')) for t in tmp.splitlines()])\n",
    "ratings = ratings.astype(np.float)\n",
    "ratings[:, 2] /= 5\n",
    "f.close()"
   ]
  },
  {
   "cell_type": "code",
   "execution_count": 7,
   "metadata": {
    "collapsed": true
   },
   "outputs": [],
   "source": [
    "z.close()"
   ]
  },
  {
   "cell_type": "markdown",
   "metadata": {},
   "source": [
    "#####Binarization of data"
   ]
  },
  {
   "cell_type": "markdown",
   "metadata": {},
   "source": [
    "<i>usr_bin</i>\n",
    "* 1: UserId\n",
    "* 7: Age\n",
    "* 21: Profession\n",
    "* 2: Gender (M, W)"
   ]
  },
  {
   "cell_type": "code",
   "execution_count": 8,
   "metadata": {
    "collapsed": false
   },
   "outputs": [],
   "source": [
    "ages = [1, 18, 25, 35, 45, 50, 56]\n",
    "usr_bin = np.empty((users.shape[0], 1 + 7 + 21 + 2), dtype=np.int)"
   ]
  },
  {
   "cell_type": "code",
   "execution_count": 9,
   "metadata": {
    "collapsed": false
   },
   "outputs": [],
   "source": [
    "usr_bin[:, 0] = users[:, 0]\n",
    "for i in range(len(ages)):\n",
    "    usr_bin[:, i + 1] = users[:, 2] == ages[i]\n",
    "for i in range(21):\n",
    "    usr_bin[:, i + 1 + 7] = users[:, 3] == i\n",
    "usr_bin[:, -2] = users[:, 1] == 1\n",
    "usr_bin[:, -1] = users[:, 1] == 0"
   ]
  },
  {
   "cell_type": "markdown",
   "metadata": {},
   "source": [
    "<i>mov_bin</i>\n",
    "* 1: MovieId\n",
    "* 18: Genres (genres.shape[0])\n",
    "* 8: epoch (every ten years)\n",
    "* 1: movie length (normalized to [0.1, 0.9]"
   ]
  },
  {
   "cell_type": "code",
   "execution_count": 10,
   "metadata": {
    "collapsed": false
   },
   "outputs": [],
   "source": [
    "genres = '''Action Adventure Animation Children's Comedy Crime Documentary Drama\n",
    "Fantasy Film-Noir Horror Musical Mystery Romance Sci-Fi Thriller War Western'''.split()\n",
    "genres = np.asarray(genres)"
   ]
  },
  {
   "cell_type": "code",
   "execution_count": 11,
   "metadata": {
    "collapsed": false
   },
   "outputs": [],
   "source": [
    "mov_bin = np.zeros((int(movies[-1, 0]), 1 + genres.shape[0] + 8 + 1), dtype=np.float)\n",
    "j = 0\n",
    "for i in range(mov_bin.shape[0]):\n",
    "    mov_bin[i, 0] = i + 1\n",
    "    try:\n",
    "        mov = movies[movies[:, 0] == str(i + 1)]\n",
    "        subgen = mov[:, 2][0].split('|')\n",
    "        year = mov[:, 1][0][-5: -1]\n",
    "        mov_len = len(mov[:, 1][0][: -6].split())\n",
    "        for gen in subgen:\n",
    "            mov_bin[i, 1: 19] += (gen == genres)\n",
    "        \n",
    "        epoch = (int(year) // 10) % 10 + (int(year) % 10 > 0)\n",
    "        if epoch == 2:\n",
    "            epoch = 3\n",
    "        elif year == '2000':\n",
    "            epoch = 10\n",
    "        mov_bin[i, 19 + epoch - 3] = 1\n",
    "        \n",
    "        mov_bin[i, -1] = mov_len\n",
    "    except:\n",
    "        continue"
   ]
  },
  {
   "cell_type": "code",
   "execution_count": 12,
   "metadata": {
    "collapsed": true
   },
   "outputs": [],
   "source": [
    "mov_bin[:, -1] = (mov_bin[:, -1] - 1) / 14 * 0.8 + 0.1 # min is 1, max is 15"
   ]
  },
  {
   "cell_type": "markdown",
   "metadata": {},
   "source": [
    "<i>rat_bin</i>\n",
    "* 2: (UserID, MovieID)\n",
    "* 30: User info (31 - 1)\n",
    "* 27: Movie info (28 - 1)\n",
    "* 1: Constant\n",
    "\n",
    "Genre-based feature, user avg rating and movie avg rating will be added in estimator's fit"
   ]
  },
  {
   "cell_type": "code",
   "execution_count": 29,
   "metadata": {
    "collapsed": false
   },
   "outputs": [],
   "source": [
    "rat_bin = np.zeros((ratings.shape[0], 2 + usr_bin.shape[1] - 1 + mov_bin.shape[1] - 1 + 1))\n",
    "rat_bin[:, :2] = ratings[:, :2]"
   ]
  },
  {
   "cell_type": "code",
   "execution_count": 14,
   "metadata": {
    "collapsed": true
   },
   "outputs": [],
   "source": [
    "import time"
   ]
  },
  {
   "cell_type": "code",
   "execution_count": 31,
   "metadata": {
    "collapsed": false,
    "scrolled": false
   },
   "outputs": [
    {
     "name": "stdout",
     "output_type": "stream",
     "text": [
      "Time elapsed: 20.862625\n"
     ]
    }
   ],
   "source": [
    "_time = time.clock()\n",
    "for u in np.unique(usr_bin[:, 0]):\n",
    "    indx = np.where(ratings[:, 0] == u)[0]\n",
    "    rat = ratings[indx][:, 1]\n",
    "\n",
    "    rat_bin[indx, 2: 32] = usr_bin[u - 1, 1:]\n",
    "    rat_bin[indx, 32: 59] = mov_bin[rat.astype(np.int) - 1][:, 1:]\n",
    "    rat_bin[indx, 59: 60] = 1\n",
    "print('Time elapsed:', time.clock() - _time)"
   ]
  },
  {
   "cell_type": "code",
   "execution_count": 32,
   "metadata": {
    "collapsed": true
   },
   "outputs": [],
   "source": [
    "maxMovieID = int(movies[-1][0])\n",
    "maxUserID = users[-1, 0]"
   ]
  },
  {
   "cell_type": "markdown",
   "metadata": {},
   "source": [
    "### Generate train-test"
   ]
  },
  {
   "cell_type": "markdown",
   "metadata": {},
   "source": [
    "Генерация данных для обучения и контроля:\n",
    "\n",
    "Для простоты работы, вместо самих данных, были сгенерированы индексы, соответствующие данным из обучения-контроля. Это сделано, т.к. данные делятся одинаково и для rat_bin и для ratings."
   ]
  },
  {
   "cell_type": "code",
   "execution_count": 33,
   "metadata": {
    "collapsed": true
   },
   "outputs": [],
   "source": [
    "train_idx = []\n",
    "test_idx = []\n",
    "train_frac = 0.8"
   ]
  },
  {
   "cell_type": "code",
   "execution_count": 34,
   "metadata": {
    "collapsed": false
   },
   "outputs": [
    {
     "name": "stdout",
     "output_type": "stream",
     "text": [
      "Time elapsed: 36.409220000000005\n"
     ]
    }
   ],
   "source": [
    "_time = time.clock()\n",
    "i = 0\n",
    "for u in np.unique(usr_bin[:, 0]):\n",
    "    usrs = ratings[:, 0] == u\n",
    "    indx = ratings[usrs, -1].argsort()\n",
    "    indx += i\n",
    "    thr = np.floor(indx.size * train_frac)\n",
    "    train_idx += indx[: thr].tolist()\n",
    "    test_idx += indx[thr: ].tolist()\n",
    "    i += indx.size\n",
    "print('Time elapsed:', time.clock() - _time)"
   ]
  },
  {
   "cell_type": "code",
   "execution_count": 41,
   "metadata": {
    "collapsed": false
   },
   "outputs": [],
   "source": [
    "del(users, movies,\n",
    "    usr_bin, mov_bin,\n",
    "    tmp, rat, z, f, mov_len, gen, year)"
   ]
  },
  {
   "cell_type": "markdown",
   "metadata": {},
   "source": [
    "##1. Content-based подход"
   ]
  },
  {
   "cell_type": "code",
   "execution_count": 46,
   "metadata": {
    "collapsed": true
   },
   "outputs": [],
   "source": [
    "data = rat_bin\n",
    "y = ratings[:, 2]"
   ]
  },
  {
   "cell_type": "code",
   "execution_count": 43,
   "metadata": {
    "collapsed": true
   },
   "outputs": [],
   "source": [
    "L = 0.2"
   ]
  },
  {
   "cell_type": "markdown",
   "metadata": {},
   "source": [
    "Изначально, после Ridge-регрессии (без побдора оптимального параметра) ошибка равняется 0.028343817878777555. Время работы обучения 3.15 секунд."
   ]
  },
  {
   "cell_type": "markdown",
   "metadata": {},
   "source": [
    "#####CV for L"
   ]
  },
  {
   "cell_type": "markdown",
   "metadata": {},
   "source": [
    "Для кросс-валидации (и для удобства) создадим класс для Content-based подхода"
   ]
  },
  {
   "cell_type": "code",
   "execution_count": 44,
   "metadata": {
    "collapsed": true
   },
   "outputs": [],
   "source": [
    "from sklearn import grid_search"
   ]
  },
  {
   "cell_type": "code",
   "execution_count": 45,
   "metadata": {
    "collapsed": true
   },
   "outputs": [],
   "source": [
    "from sklearn import base"
   ]
  },
  {
   "cell_type": "code",
   "execution_count": 113,
   "metadata": {
    "collapsed": false
   },
   "outputs": [],
   "source": [
    "class ContentBased(base.BaseEstimator, base.ClassifierMixin):\n",
    "    def __init__(self, L=0.0001):\n",
    "        self.L = L\n",
    "\n",
    "\n",
    "    def fit(self, X, y):\n",
    "        self.mov_avg_rat = np.zeros(maxMovieID)\n",
    "        for i in range(self.mov_avg_rat.shape[0]):\n",
    "            rats = y[np.where(X[:, 1] == i + 1)[0]]\n",
    "            if len(rats):\n",
    "                self.mov_avg_rat[i] = np.average(rats)\n",
    "        \n",
    "        data = np.zeros((X.shape[0], X.shape[1] + 1)) # -2 for IDs, +3 for features = +1\n",
    "        data[:, :-3] = X[:, 2:]\n",
    "        data[:, -3] = self.mov_avg_rat[X[:, 1].astype(np.int) - 1]\n",
    "        \n",
    "        self.usr_avg_rat = np.zeros(maxUserID)\n",
    "        self.s = np.zeros((maxUserID, 27))\n",
    "        \n",
    "        for u in np.unique(X[:, 0]):\n",
    "            indx = np.where(X[:, 0] == u)[0]\n",
    "            self.usr_avg_rat[u - 1] = np.average(y[indx])\n",
    "            \n",
    "            s = np.sum(X[indx, 32: 59] * y[indx, np.newaxis], axis=0, dtype=np.float)\n",
    "            div = X[indx, 32: 59].sum(axis=0)\n",
    "            div[div == 0] = -1\n",
    "            s /= div\n",
    "            \n",
    "            self.s[u - 1] = s\n",
    "            \n",
    "            data[indx, -2] = np.dot(X[indx, 32: 59], s) / X[indx, 32: 59].sum(axis=1)\n",
    "            data[indx, -1] = self.usr_avg_rat[u - 1]\n",
    "        \n",
    "        self.time = time.clock()\n",
    "#         inv = np.linalg.inv(np.dot(data.T, data) + self.L * np.eye(data.shape[1]))\n",
    "        inv = np.linalg.solve(np.dot(data.T, data) + self.L * np.eye(data.shape[1]),\n",
    "                              np.eye(data.shape[1]))\n",
    "        self.w = np.dot(np.dot(inv, data.T), y)\n",
    "        self.time = time.clock() - self.time\n",
    "\n",
    "\n",
    "    def predict(self, X):\n",
    "        data = np.zeros((X.shape[0], X.shape[1] + 1)) # -2 for IDs, +3 for features = +1\n",
    "        data[:, :-3] = X[:, 2:]\n",
    "        data[:, -3] = self.mov_avg_rat[X[:, 1].astype(np.int) - 1]\n",
    "        \n",
    "        for u in np.unique(X[:, 0]):\n",
    "            indx = np.where(X[:, 0] == u)[0]\n",
    "            \n",
    "            data[indx, -2] = np.dot(X[indx, 32: 59], self.s[u - 1]) / X[indx, 32: 59].sum(axis=1)\n",
    "            data[indx, -1] = self.usr_avg_rat[u - 1]\n",
    "\n",
    "        return np.dot(data, self.w)\n",
    "\n",
    "\n",
    "    def score(self, X, y, sample_weight=None):\n",
    "        return -np.mean((self.predict(X) - y) ** 2)\n",
    "    \n",
    "\n",
    "    def myScore(self, true_y, pred_y):\n",
    "        return np.mean((true_y - pred_y) ** 2)\n"
   ]
  },
  {
   "cell_type": "code",
   "execution_count": 129,
   "metadata": {
    "collapsed": true
   },
   "outputs": [],
   "source": [
    "cb = ContentBased(L=0.2)"
   ]
  },
  {
   "cell_type": "code",
   "execution_count": 130,
   "metadata": {
    "collapsed": false
   },
   "outputs": [],
   "source": [
    "cb.fit(data[train_idx], y[train_idx])"
   ]
  },
  {
   "cell_type": "code",
   "execution_count": 131,
   "metadata": {
    "collapsed": false
   },
   "outputs": [],
   "source": [
    "pred = cb.predict(data[test_idx])"
   ]
  },
  {
   "cell_type": "code",
   "execution_count": 132,
   "metadata": {
    "collapsed": false
   },
   "outputs": [
    {
     "data": {
      "text/plain": [
       "0.045226320708928278"
      ]
     },
     "execution_count": 132,
     "metadata": {},
     "output_type": "execute_result"
    }
   ],
   "source": [
    "cb.myScore(y[test_idx], pred)"
   ]
  },
  {
   "cell_type": "code",
   "execution_count": 133,
   "metadata": {
    "collapsed": true
   },
   "outputs": [],
   "source": [
    "pred_tr = cb.predict(data[train_idx])"
   ]
  },
  {
   "cell_type": "code",
   "execution_count": 134,
   "metadata": {
    "collapsed": false
   },
   "outputs": [
    {
     "data": {
      "text/plain": [
       "0.028316630130354278"
      ]
     },
     "execution_count": 134,
     "metadata": {},
     "output_type": "execute_result"
    }
   ],
   "source": [
    "cb.myScore(y[train_idx], pred_tr)"
   ]
  },
  {
   "cell_type": "markdown",
   "metadata": {},
   "source": [
    "Ошибка сделана отрицательной специально для кросс-валидации, т.к. GridSearch максимизирует оценку. Также заметим, что ошибка оказалось такой же, как и в предыдущем пункте, что доказывает правильность написания класса."
   ]
  },
  {
   "cell_type": "code",
   "execution_count": 115,
   "metadata": {
    "collapsed": false
   },
   "outputs": [],
   "source": [
    "gs = grid_search.GridSearchCV(cb, {'L': np.linspace(0, 0.5, 5)})"
   ]
  },
  {
   "cell_type": "code",
   "execution_count": null,
   "metadata": {
    "collapsed": false
   },
   "outputs": [],
   "source": [
    "_time = time.clock()\n",
    "gs.fit(data[train_idx], y[train_idx])\n",
    "print('Time elapsed:', time.clock() - _time)"
   ]
  },
  {
   "cell_type": "markdown",
   "metadata": {},
   "source": [
    "<font size=1>P.S. Здесь кросс-валидация работала около 1003 секунд. Я нечаянно запустил после проверки и остановил</font>"
   ]
  },
  {
   "cell_type": "code",
   "execution_count": 117,
   "metadata": {
    "collapsed": false
   },
   "outputs": [
    {
     "data": {
      "text/plain": [
       "[mean: -252478875910790719733760.00000, std: 357059498104465897029632.00000, params: {'L': 0.0},\n",
       " mean: -0.42036, std: 0.00399, params: {'L': 0.125},\n",
       " mean: -0.42038, std: 0.00399, params: {'L': 0.25},\n",
       " mean: -0.42039, std: 0.00399, params: {'L': 0.375},\n",
       " mean: -0.42041, std: 0.00399, params: {'L': 0.5}]"
      ]
     },
     "execution_count": 117,
     "metadata": {},
     "output_type": "execute_result"
    }
   ],
   "source": [
    "gs.grid_scores_"
   ]
  },
  {
   "cell_type": "code",
   "execution_count": 118,
   "metadata": {
    "collapsed": false
   },
   "outputs": [
    {
     "data": {
      "text/plain": [
       "{'L': 0.125}"
      ]
     },
     "execution_count": 118,
     "metadata": {},
     "output_type": "execute_result"
    }
   ],
   "source": [
    "gs.best_params_"
   ]
  },
  {
   "cell_type": "markdown",
   "metadata": {},
   "source": [
    "Как видно из ответов, ошибка не зависит от L до определнного знака. Также видно, что лучший параметр является близким к нулю, но не нулем. Проверим эту гипотезу:"
   ]
  },
  {
   "cell_type": "code",
   "execution_count": 121,
   "metadata": {
    "collapsed": false
   },
   "outputs": [],
   "source": [
    "gs = grid_search.GridSearchCV(cb, {'L': np.linspace(0, 0.0005, 5)})"
   ]
  },
  {
   "cell_type": "code",
   "execution_count": 122,
   "metadata": {
    "collapsed": false
   },
   "outputs": [
    {
     "name": "stdout",
     "output_type": "stream",
     "text": [
      "Time elapsed: 1004.4788090000002\n"
     ]
    }
   ],
   "source": [
    "_time = time.clock()\n",
    "gs.fit(data[train_idx], y[train_idx])\n",
    "print('Time elapsed:', time.clock() - _time)"
   ]
  },
  {
   "cell_type": "code",
   "execution_count": 123,
   "metadata": {
    "collapsed": false
   },
   "outputs": [
    {
     "data": {
      "text/plain": [
       "[mean: -252478875910790719733760.00000, std: 357059498104465897029632.00000, params: {'L': 0.0},\n",
       " mean: -0.42034, std: 0.00399, params: {'L': 0.000125},\n",
       " mean: -0.42034, std: 0.00399, params: {'L': 0.00025000000000000001},\n",
       " mean: -0.42034, std: 0.00399, params: {'L': 0.00037500000000000001},\n",
       " mean: -0.42034, std: 0.00399, params: {'L': 0.00050000000000000001}]"
      ]
     },
     "execution_count": 123,
     "metadata": {},
     "output_type": "execute_result"
    }
   ],
   "source": [
    "gs.grid_scores_"
   ]
  },
  {
   "cell_type": "markdown",
   "metadata": {},
   "source": [
    "И в самом деле, ошибка минимиальна при L->0. В нашем случае возьмем L=0.0001"
   ]
  },
  {
   "cell_type": "code",
   "execution_count": 124,
   "metadata": {
    "collapsed": false
   },
   "outputs": [
    {
     "data": {
      "text/plain": [
       "{'L': 0.000125}"
      ]
     },
     "execution_count": 124,
     "metadata": {},
     "output_type": "execute_result"
    }
   ],
   "source": [
    "gs.best_params_"
   ]
  },
  {
   "cell_type": "markdown",
   "metadata": {},
   "source": [
    "Test ContentBased with best parametres"
   ]
  },
  {
   "cell_type": "markdown",
   "metadata": {},
   "source": [
    "Проверяем правильность выбора параметра"
   ]
  },
  {
   "cell_type": "code",
   "execution_count": 136,
   "metadata": {
    "collapsed": true
   },
   "outputs": [],
   "source": [
    "cb = ContentBased()"
   ]
  },
  {
   "cell_type": "code",
   "execution_count": 137,
   "metadata": {
    "collapsed": false
   },
   "outputs": [
    {
     "name": "stdout",
     "output_type": "stream",
     "text": [
      "Time elapsed: 97.43145100000038\n"
     ]
    }
   ],
   "source": [
    "_time = time.clock()\n",
    "cb.fit(data[train_idx], y[train_idx])\n",
    "print('Time elapsed:', time.clock() - _time)"
   ]
  },
  {
   "cell_type": "code",
   "execution_count": 138,
   "metadata": {
    "collapsed": false
   },
   "outputs": [
    {
     "name": "stdout",
     "output_type": "stream",
     "text": [
      "0.0452351302146\n",
      "Time elapsed: 14.369012000000112\n"
     ]
    }
   ],
   "source": [
    "_time = time.clock()\n",
    "print(-cb.score(data[test_idx], y[test_idx]))\n",
    "print('Time elapsed:', time.clock() - _time)"
   ]
  },
  {
   "cell_type": "code",
   "execution_count": 139,
   "metadata": {
    "collapsed": false
   },
   "outputs": [
    {
     "name": "stdout",
     "output_type": "stream",
     "text": [
      "0.0283166294937\n",
      "Time elapsed: 57.8515239999997\n"
     ]
    }
   ],
   "source": [
    "_time = time.clock()\n",
    "print(-cb.score(data[train_idx], y[train_idx]))\n",
    "print('Time elapsed:', time.clock() - _time)"
   ]
  },
  {
   "cell_type": "markdown",
   "metadata": {},
   "source": [
    "Ошибка на обучении уменьшилась на $6 * 10^{-10}$, но на контроле ухудшилась. Это объяснятеся тем, что кросс-валидация проводилась для обучющей выборки."
   ]
  },
  {
   "cell_type": "markdown",
   "metadata": {},
   "source": [
    "<h3>Резюме по методу:</h3>\n",
    "* Обучение на методе работает ~98 секунды\n",
    "* Контроль на методе работает ~15 секунд\n",
    "* Ошибка 0.0452351302146"
   ]
  },
  {
   "cell_type": "markdown",
   "metadata": {},
   "source": [
    "##2. Neighborhood подход в коллаборативной фильтрации"
   ]
  },
  {
   "cell_type": "markdown",
   "metadata": {},
   "source": [
    "Сначала выпишем формулы для user-oriented подхода\n",
    "\n",
    "Имея матрицу user-item из оценок пользователей можно определить меру adjusted cosine similarity похожести пользователей u и v как векторов в пространстве товаров:\n",
    "\n",
    "<center><font size=4>$sim(u, v) = \\frac{\\sum\\nolimits_{i \\in I} (r_{u,i} - \\overline{r_i}) (r_{v,i} - \\overline{r_i}) }{\\sqrt{\\sum\\nolimits_{i \\in I} (r_{u,i} - \\overline{r_i})^2} \\sqrt{\\sum\\nolimits_{i \\in I} (r_{v,i} - \\overline{r_i})^2} }$</font></center>\n",
    "\n",
    "где I – множество товаров, которые были оценены пользователями u и v, $\\overline{r_i}$ – средний рейтинг товара $i$.\n",
    "\n",
    "Рейтинги для неизвестных фильмов считаются по следующей формуле:\n",
    "\n",
    "<center><font size=4>$\\hat{r}_{u,i} = \\sum\\limits_{v: \\, r_{v,i} \\neq 0} sim(u, v) \\, r_{v,i} \\big/ \\sum\\limits_{v: \\, r_{v,i} \\neq 0 } sim(u, v)$</font></center>"
   ]
  },
  {
   "cell_type": "code",
   "execution_count": 350,
   "metadata": {
    "collapsed": false
   },
   "outputs": [],
   "source": [
    "class NeighborhoodBased():\n",
    "    def __init__(self):\n",
    "        self.isPredicted = False\n",
    "\n",
    "\n",
    "    def fit(self, X):\n",
    "        \"\"\"\n",
    "        X: (u, i, r) matrix\n",
    "        \"\"\"\n",
    "        usr_itm = np.zeros((maxUserID, maxMovieID))\n",
    "        usr_avg = np.zeros((maxUserID, 1))\n",
    "        \n",
    "        for u in np.unique(X[:, 0]):\n",
    "            indx = X[:, 0] == u\n",
    "            rat = X[indx][:, 1:]\n",
    "            usr_avg_rat = np.average(rat[:, 1])\n",
    "\n",
    "            usr_itm[u - 1, rat[:, 0].astype(np.int) - 1] = rat[:, 1]\n",
    "            usr_avg[u - 1] = usr_avg_rat\n",
    "        \n",
    "        self.ui = usr_itm\n",
    "        \n",
    "        tmp = usr_itm - usr_avg\n",
    "        tmp[tmp < -usr_avg + 0.0001] = 0\n",
    "        \n",
    "        del(usr_itm, usr_avg)\n",
    "        \n",
    "        div = np.sqrt(np.sum(tmp ** 2, axis=0))\n",
    "        div[div == 0] = 1\n",
    "        div_sim = tmp / div\n",
    "        \n",
    "        del(tmp)\n",
    "        \n",
    "        self.sim = np.dot(div_sim.T, div_sim)\n",
    "        self.sim[self.sim < 0] = 0\n",
    "        \n",
    "        self.argmax = np.argsort(self.sim, axis=0)\n",
    "\n",
    "        \n",
    "    def predict(self, X, N=None):\n",
    "        \"\"\"\n",
    "        X: (u, i) matrix\n",
    "        \"\"\"\n",
    "        sim = np.copy(self.sim)\n",
    "        if N is not None:\n",
    "            for i in range(self.argmax.shape[1]):\n",
    "                sim[self.argmax[:-N, i], i] = 0\n",
    "\n",
    "        _time = time.clock()\n",
    "        ans = []\n",
    "        for u in np.unique(X[:, 0]):\n",
    "            ind = np.where(self.ui[u - 1] != 0)[0]\n",
    "            movies = (X[X[:, 0] == u, 1] - 1).astype(np.int)\n",
    "            div = np.sum(sim[ind][:, movies], axis=0)\n",
    "            div[div == 0] = 1\n",
    "            ans += (np.dot(self.ui[u - 1][ind], sim[ind][:, movies]) / div).tolist()\n",
    "\n",
    "        self.predict_time = time.clock() - _time\n",
    "        return np.array(ans)\n",
    "\n",
    "\n",
    "    def score(self, y_true, y_predict):\n",
    "        return np.mean((y_true - y_predict) ** 2)\n"
   ]
  },
  {
   "cell_type": "code",
   "execution_count": 381,
   "metadata": {
    "collapsed": false
   },
   "outputs": [],
   "source": [
    "nb = NeighborhoodBased()"
   ]
  },
  {
   "cell_type": "code",
   "execution_count": 382,
   "metadata": {
    "collapsed": false
   },
   "outputs": [],
   "source": [
    "_time = time.clock()\n",
    "nb.fit(ratings[train_idx, :-1])\n",
    "time_nb_training = time.clock() - _time"
   ]
  },
  {
   "cell_type": "markdown",
   "metadata": {},
   "source": [
    "Тестируем время работы и качество метода в зависимости от N: первых самых похожих фильмов j по мере sim(i, j)"
   ]
  },
  {
   "cell_type": "code",
   "execution_count": 383,
   "metadata": {
    "collapsed": false
   },
   "outputs": [],
   "source": [
    "score_nb_tr = []\n",
    "score_nb_te = []\n",
    "time_nb_tr_pre = []\n",
    "time_nb_te_pre = []\n",
    "\n",
    "for N in np.arange(50, 2000, 100):\n",
    "    pred = nb.predict(ratings[test_idx, :-2], N)\n",
    "    time_nb_te_pre.append(nb.predict_time)\n",
    "    score_nb_te.append(nb.score(ratings[test_idx, -2], pred))\n",
    "    \n",
    "    pred = nb.predict(ratings[train_idx, :-2], N)\n",
    "    time_nb_tr_pre.append(nb.predict_time)\n",
    "    score_nb_tr.append(nb.score(ratings[train_idx, -2], pred))"
   ]
  },
  {
   "cell_type": "code",
   "execution_count": 429,
   "metadata": {
    "collapsed": true
   },
   "outputs": [],
   "source": [
    "plt.rcParams['figure.figsize'] = 10, 5"
   ]
  },
  {
   "cell_type": "code",
   "execution_count": 432,
   "metadata": {
    "collapsed": false
   },
   "outputs": [
    {
     "data": {
      "text/plain": [
       "<matplotlib.legend.Legend at 0x10a5965f8>"
      ]
     },
     "execution_count": 432,
     "metadata": {},
     "output_type": "execute_result"
    },
    {
     "data": {
      "image/png": "[encoded data removed]",
      "text/plain": [
       "<matplotlib.figure.Figure at 0x10b7c2390>"
      ]
     },
     "metadata": {},
     "output_type": "display_data"
    }
   ],
   "source": [
    "plt.plot(np.arange(50, 2000, 100), score_nb_te, alpha=0.5, c='red', label='Quality on test')\n",
    "plt.scatter(np.arange(50, 2000, 100), score_nb_te, c='red', s=40)\n",
    "\n",
    "plt.plot(np.arange(50, 2000, 100), score_nb_tr, alpha=0.5, c='g', label='Quality on train')\n",
    "plt.scatter(np.arange(50, 2000, 100), score_nb_tr, c='g', s=40)\n",
    "\n",
    "plt.xlabel('N')\n",
    "plt.ylabel('MSE')\n",
    "plt.xlim(0, 2000)\n",
    "plt.legend(loc='best')"
   ]
  },
  {
   "cell_type": "markdown",
   "metadata": {},
   "source": [
    "Из графика выше видно, что ошибка на контроле до ~700 падает и начиная с ~700 перестает изменяться. В случае качества на обучении ошибка увеличивается и опять же начиная с ~700 перестает меняться. Т.е. при N < 700 происходит переобучение, следовательно надо брать N > 700"
   ]
  },
  {
   "cell_type": "code",
   "execution_count": 434,
   "metadata": {
    "collapsed": false
   },
   "outputs": [
    {
     "data": {
      "text/plain": [
       "<matplotlib.legend.Legend at 0x12e5a3320>"
      ]
     },
     "execution_count": 434,
     "metadata": {},
     "output_type": "execute_result"
    },
    {
     "data": {
      "image/png": "[encoded data removed]",
      "text/plain": [
       "<matplotlib.figure.Figure at 0x12e28a828>"
      ]
     },
     "metadata": {},
     "output_type": "display_data"
    }
   ],
   "source": [
    "plt.plot(np.arange(50, 2000, 100), time_nb_te_pre, alpha=0.5, c='red', label='Time on test')\n",
    "\n",
    "plt.plot(np.arange(50, 2000, 100), time_nb_tr_pre, alpha=0.5, c='g', label='Time on train')\n",
    "\n",
    "plt.xlabel('N')\n",
    "plt.ylabel('time, sec')\n",
    "plt.xlim(0, 2000)\n",
    "plt.legend(loc='best')"
   ]
  },
  {
   "cell_type": "markdown",
   "metadata": {},
   "source": [
    "Время работы метода не зависит от N"
   ]
  },
  {
   "cell_type": "code",
   "execution_count": 403,
   "metadata": {
    "collapsed": false
   },
   "outputs": [
    {
     "data": {
      "text/plain": [
       "35.658054000003176"
      ]
     },
     "execution_count": 403,
     "metadata": {},
     "output_type": "execute_result"
    }
   ],
   "source": [
    "time_nb_training"
   ]
  },
  {
   "cell_type": "code",
   "execution_count": 452,
   "metadata": {
    "collapsed": false
   },
   "outputs": [
    {
     "name": "stdout",
     "output_type": "stream",
     "text": [
      "33.604944999999134\n",
      "0.0342283108932\n"
     ]
    }
   ],
   "source": [
    "# nb.fit(ratings[train_idx, :-1])\n",
    "pred = nb.predict(ratings[test_idx, :-2])\n",
    "print(nb.predict_time)\n",
    "print(nb.score(ratings[test_idx, -2], pred))"
   ]
  },
  {
   "cell_type": "markdown",
   "metadata": {},
   "source": [
    "<h3>Резюме по методу:</h3>\n",
    "* Обучение на методе работает ~35 секунд\n",
    "* Контроль на матоде работает ~35 секунд\n",
    "* Ошибка 0.0342283108932"
   ]
  },
  {
   "cell_type": "markdown",
   "metadata": {},
   "source": [
    "##3. Latent factor подход в коллаборативной фильтрации"
   ]
  },
  {
   "cell_type": "markdown",
   "metadata": {},
   "source": [
    "Выпишем формулы для перенастройки $q_i$ при фиксированной матрице P:\n",
    "\n",
    "\\begin{align}\n",
    "A_i &= P[i]^T P[i] \\\\\n",
    "d_u &= P[i]^T r_i \\\\\n",
    "q_i &= (\\lambda_q n_i I + A_i)^{-1} d_u \\\\\n",
    "\\end{align}\n",
    "\n",
    "где $P[i]$ подматрица матрицы $P$ только для пользователей, оценивших фильм $i$, $n_i$ - количество пользователей, оценивших фильм $i$."
   ]
  },
  {
   "cell_type": "code",
   "execution_count": 407,
   "metadata": {
    "collapsed": true
   },
   "outputs": [],
   "source": [
    "class LatendFactorBased(base.BaseEstimator, base.ClassifierMixin):\n",
    "    def __init__(self, L_p=0.7, L_q=0.0005, N=10, K=30):\n",
    "        self.L_p = L_p\n",
    "        self.L_q = L_q\n",
    "        self.N = N\n",
    "        self.K = K\n",
    "\n",
    "    def fit(self, X, y):\n",
    "        \"\"\"\n",
    "        X: (u, i)\n",
    "        y: (r)\n",
    "        \"\"\"\n",
    "        self.Q = 0.1 * np.random.rand(maxMovieID, self.K)\n",
    "        self.P = 0.1 * np.random.rand(maxUserID, self.K)\n",
    "        X = X.astype(np.int)\n",
    "\n",
    "        indx_u = []\n",
    "        indx_i = []\n",
    "        for u in range(maxUserID):\n",
    "            indx_u.append(np.where(X[:, 0] == u + 1)[0])\n",
    "\n",
    "        for i in range(maxMovieID):\n",
    "            indx_i.append(np.where(X[:, 1] == i + 1)[0])\n",
    "\n",
    "        for n in range(self.N):\n",
    "            for u in np.unique(X[:, 0]):\n",
    "                mov = X[indx_u[u - 1], 1]\n",
    "                A = np.dot(self.Q[mov - 1].T, self.Q[mov - 1])\n",
    "                d = np.dot(self.Q[mov - 1].T, y[indx_u[u - 1]])\n",
    "                try:\n",
    "#                     self.P[u - 1] = np.dot(np.linalg.inv(self.L_p * indx_u[u - 1].size * np.eye(self.K) + A), d)\n",
    "                    self.P[u - 1] = np.dot(np.linalg.solve(self.L_p * indx_u[u - 1].size * np.eye(self.K) + A,\n",
    "                                                           np.eye(self.K)),\n",
    "                                           d)\n",
    "                except:\n",
    "                    pass\n",
    "                \n",
    "            for i in np.unique(X[:, 1]):\n",
    "                usr = X[indx_i[i - 1], 0]\n",
    "                A = np.dot(self.P[usr - 1].T, self.P[usr - 1])\n",
    "                d = np.dot(self.P[usr - 1].T, y[indx_i[i - 1]])\n",
    "                try:\n",
    "#                     self.Q[i - 1] = np.dot(np.linalg.inv(self.L_q * indx_i[i - 1].size * np.eye(self.K) + A), d)\n",
    "                    self.Q[i - 1] = np.dot(np.linalg.solve(self.L_q * indx_i[i - 1].size * np.eye(self.K) + A,\n",
    "                                                           np.eye(self.K)),\n",
    "                                           d)\n",
    "                except:\n",
    "                    pass\n",
    "\n",
    "\n",
    "    def predict(self, X):\n",
    "        ans = []\n",
    "        X = X.astype(np.int)\n",
    "        for u in np.unique(X[:, 0]):\n",
    "            indx = X[:, 0] == u\n",
    "            mov = X[indx, 1]\n",
    "            ans += np.dot(self.P[u - 1], self.Q[mov - 1].T).tolist()\n",
    "\n",
    "        return ans\n",
    "\n",
    "    def score(self, X, y, sample_weight=None):\n",
    "        return -np.mean((self.predict(X) - y) ** 2)\n"
   ]
  },
  {
   "cell_type": "code",
   "execution_count": 228,
   "metadata": {
    "collapsed": true
   },
   "outputs": [],
   "source": [
    "lf = LatendFactorBased()"
   ]
  },
  {
   "cell_type": "code",
   "execution_count": 229,
   "metadata": {
    "collapsed": false,
    "scrolled": true
   },
   "outputs": [
    {
     "name": "stdout",
     "output_type": "stream",
     "text": [
      "36.01040399999965\n"
     ]
    }
   ],
   "source": [
    "_time = time.clock()\n",
    "lf.fit(ratings[train_idx, :-2], ratings[train_idx, -2])\n",
    "print(time.clock() - _time)"
   ]
  },
  {
   "cell_type": "code",
   "execution_count": 230,
   "metadata": {
    "collapsed": false
   },
   "outputs": [],
   "source": [
    "pred = lf.predict(ratings[test_idx, :-2])"
   ]
  },
  {
   "cell_type": "code",
   "execution_count": 231,
   "metadata": {
    "collapsed": false
   },
   "outputs": [
    {
     "data": {
      "text/plain": [
       "0.030379431906997718"
      ]
     },
     "execution_count": 231,
     "metadata": {},
     "output_type": "execute_result"
    }
   ],
   "source": [
    "np.mean((pred - ratings[test_idx, -2]) ** 2)"
   ]
  },
  {
   "cell_type": "markdown",
   "metadata": {},
   "source": [
    "Изначально (до подбора параметров) ошибка на методе равняется 0.030379431906997718. Время работы ~36 секунд"
   ]
  },
  {
   "cell_type": "markdown",
   "metadata": {},
   "source": [
    "#####CV for L_p, L_q, K, N"
   ]
  },
  {
   "cell_type": "markdown",
   "metadata": {},
   "source": [
    "#####Search for L_p"
   ]
  },
  {
   "cell_type": "code",
   "execution_count": 254,
   "metadata": {
    "collapsed": true
   },
   "outputs": [],
   "source": [
    "lf = LatendFactorBased()"
   ]
  },
  {
   "cell_type": "code",
   "execution_count": 256,
   "metadata": {
    "collapsed": false
   },
   "outputs": [],
   "source": [
    "params = [\n",
    "    {'L_p': np.linspace(0.1, 1, 10)},\n",
    "]\n",
    "gs = grid_search.GridSearchCV(lf, params)"
   ]
  },
  {
   "cell_type": "code",
   "execution_count": 257,
   "metadata": {
    "collapsed": false
   },
   "outputs": [
    {
     "data": {
      "text/plain": [
       "GridSearchCV(cv=None, error_score='raise',\n",
       "       estimator=LatendFactorBased(K=10, L_p=0.2, L_q=0.001, N=20),\n",
       "       fit_params={}, iid=True, loss_func=None, n_jobs=1,\n",
       "       param_grid=[{'L_p': array([ 0.1,  0.2,  0.3,  0.4,  0.5,  0.6,  0.7,  0.8,  0.9,  1. ])}],\n",
       "       pre_dispatch='2*n_jobs', refit=True, score_func=None, scoring=None,\n",
       "       verbose=0)"
      ]
     },
     "execution_count": 257,
     "metadata": {},
     "output_type": "execute_result"
    }
   ],
   "source": [
    "gs.fit(ratings[train_idx, :-2], ratings[train_idx, -2])"
   ]
  },
  {
   "cell_type": "code",
   "execution_count": 258,
   "metadata": {
    "collapsed": false
   },
   "outputs": [
    {
     "data": {
      "text/plain": [
       "[mean: -0.24248, std: 0.00343, params: {'L_p': 0.10000000000000001},\n",
       " mean: -0.14252, std: 0.00436, params: {'L_p': 0.20000000000000001},\n",
       " mean: -0.09992, std: 0.00177, params: {'L_p': 0.30000000000000004},\n",
       " mean: -0.07774, std: 0.00097, params: {'L_p': 0.40000000000000002},\n",
       " mean: -0.06815, std: 0.00080, params: {'L_p': 0.5},\n",
       " mean: -0.06088, std: 0.00063, params: {'L_p': 0.59999999999999998},\n",
       " mean: -0.05688, std: 0.00065, params: {'L_p': 0.70000000000000007},\n",
       " mean: -0.05738, std: 0.00078, params: {'L_p': 0.80000000000000004},\n",
       " mean: -0.05769, std: 0.00084, params: {'L_p': 0.90000000000000002},\n",
       " mean: -0.05954, std: 0.00155, params: {'L_p': 1.0}]"
      ]
     },
     "execution_count": 258,
     "metadata": {},
     "output_type": "execute_result"
    }
   ],
   "source": [
    "gs.grid_scores_"
   ]
  },
  {
   "cell_type": "code",
   "execution_count": 259,
   "metadata": {
    "collapsed": false
   },
   "outputs": [
    {
     "data": {
      "text/plain": [
       "{'L_p': 0.70000000000000007}"
      ]
     },
     "execution_count": 259,
     "metadata": {},
     "output_type": "execute_result"
    }
   ],
   "source": [
    "gs.best_params_"
   ]
  },
  {
   "cell_type": "markdown",
   "metadata": {},
   "source": [
    "#####Search for L_q"
   ]
  },
  {
   "cell_type": "code",
   "execution_count": 275,
   "metadata": {
    "collapsed": false
   },
   "outputs": [],
   "source": [
    "lf = LatendFactorBased()"
   ]
  },
  {
   "cell_type": "code",
   "execution_count": 276,
   "metadata": {
    "collapsed": true
   },
   "outputs": [],
   "source": [
    "params = [\n",
    "    {'L_q': np.linspace(0.0005, 0.0015, 10)},\n",
    "]\n",
    "gs = grid_search.GridSearchCV(lf, params)"
   ]
  },
  {
   "cell_type": "code",
   "execution_count": 277,
   "metadata": {
    "collapsed": false
   },
   "outputs": [
    {
     "data": {
      "text/plain": [
       "GridSearchCV(cv=None, error_score='raise',\n",
       "       estimator=LatendFactorBased(K=10, L_p=0.2, L_q=0.001, N=20),\n",
       "       fit_params={}, iid=True, loss_func=None, n_jobs=1,\n",
       "       param_grid=[{'L_q': array([ 0.0005 ,  0.00061,  0.00072,  0.00083,  0.00094,  0.00106,\n",
       "        0.00117,  0.00128,  0.00139,  0.0015 ])}],\n",
       "       pre_dispatch='2*n_jobs', refit=True, score_func=None, scoring=None,\n",
       "       verbose=0)"
      ]
     },
     "execution_count": 277,
     "metadata": {},
     "output_type": "execute_result"
    }
   ],
   "source": [
    "gs.fit(ratings[train_idx, :-2], ratings[train_idx, -2])"
   ]
  },
  {
   "cell_type": "code",
   "execution_count": 278,
   "metadata": {
    "collapsed": false
   },
   "outputs": [
    {
     "data": {
      "text/plain": [
       "[mean: -0.13509, std: 0.00547, params: {'L_q': 0.00050000000000000001},\n",
       " mean: -0.13690, std: 0.00181, params: {'L_q': 0.0006111111111111111},\n",
       " mean: -0.13849, std: 0.00103, params: {'L_q': 0.00072222222222222219},\n",
       " mean: -0.14039, std: 0.00344, params: {'L_q': 0.00083333333333333339},\n",
       " mean: -0.14200, std: 0.00080, params: {'L_q': 0.00094444444444444448},\n",
       " mean: -0.14670, std: 0.00136, params: {'L_q': 0.0010555555555555557},\n",
       " mean: -0.14848, std: 0.00192, params: {'L_q': 0.0011666666666666668},\n",
       " mean: -0.14768, std: 0.00090, params: {'L_q': 0.0012777777777777779},\n",
       " mean: -0.15297, std: 0.00134, params: {'L_q': 0.0013888888888888889},\n",
       " mean: -0.15286, std: 0.00272, params: {'L_q': 0.0015}]"
      ]
     },
     "execution_count": 278,
     "metadata": {},
     "output_type": "execute_result"
    }
   ],
   "source": [
    "gs.grid_scores_"
   ]
  },
  {
   "cell_type": "code",
   "execution_count": 279,
   "metadata": {
    "collapsed": false
   },
   "outputs": [
    {
     "data": {
      "text/plain": [
       "{'L_q': 0.00050000000000000001}"
      ]
     },
     "execution_count": 279,
     "metadata": {},
     "output_type": "execute_result"
    }
   ],
   "source": [
    "gs.best_params_"
   ]
  },
  {
   "cell_type": "markdown",
   "metadata": {},
   "source": [
    "#####Search for N"
   ]
  },
  {
   "cell_type": "code",
   "execution_count": 391,
   "metadata": {
    "collapsed": false
   },
   "outputs": [],
   "source": [
    "score_lf_N = []\n",
    "for N in [5, 10, 15, 20, 25, 30, 35, 40]:\n",
    "    lf = LatendFactorBased(N=N)\n",
    "    lf.fit(ratings[train_idx, :-2], ratings[train_idx, -2])\n",
    "    score_lf_N.append(-lf.score(ratings[test_idx, :-2], ratings[test_idx, -2]))"
   ]
  },
  {
   "cell_type": "code",
   "execution_count": 392,
   "metadata": {
    "collapsed": false
   },
   "outputs": [
    {
     "data": {
      "text/plain": [
       "[0.030589071791976022,\n",
       " 0.030304404839377509,\n",
       " 0.030314410471495374,\n",
       " 0.030321270201944906,\n",
       " 0.030334266098952452,\n",
       " 0.030328990089645222,\n",
       " 0.030338534512974216,\n",
       " 0.030357724817903768]"
      ]
     },
     "execution_count": 392,
     "metadata": {},
     "output_type": "execute_result"
    }
   ],
   "source": [
    "score_lf_N"
   ]
  },
  {
   "cell_type": "code",
   "execution_count": 443,
   "metadata": {
    "collapsed": false
   },
   "outputs": [
    {
     "data": {
      "text/plain": [
       "<matplotlib.text.Text at 0x131279748>"
      ]
     },
     "execution_count": 443,
     "metadata": {},
     "output_type": "execute_result"
    },
    {
     "data": {
      "image/png": "[encoded data removed]",
      "text/plain": [
       "<matplotlib.figure.Figure at 0x130fec208>"
      ]
     },
     "metadata": {},
     "output_type": "display_data"
    }
   ],
   "source": [
    "plt.plot([5, 10, 15, 20, 25, 30, 35, 40], score_lf_N)\n",
    "\n",
    "plt.xlabel('N')\n",
    "plt.ylabel('MSE')\n",
    "plt.title('Latent factor')"
   ]
  },
  {
   "cell_type": "markdown",
   "metadata": {},
   "source": [
    "На графике выше изображена зависимость качества от количества итераций в методе. Можно заметить, что при N = 10 ошибка достигает минимума, а дальше ошибка растет. Следовательно для метода можно выбрать N = 10"
   ]
  },
  {
   "cell_type": "markdown",
   "metadata": {},
   "source": [
    "#####Testing speed and quality depend on K "
   ]
  },
  {
   "cell_type": "code",
   "execution_count": 410,
   "metadata": {
    "collapsed": true
   },
   "outputs": [],
   "source": [
    "score_lf_tr = []\n",
    "score_lf_te = []\n",
    "time_lf_tr_pre = []\n",
    "time_lf_te_pre = []\n",
    "time_lf_training = []\n",
    "for K in range(10, 60, 10):\n",
    "    lf = LatendFactorBased(K=K)\n",
    "    \n",
    "    _time = time.clock()\n",
    "    lf.fit(ratings[train_idx, :-2], ratings[train_idx, -2])\n",
    "    time_lf_training.append(time.clock() - _time)\n",
    "    \n",
    "    _time = time.clock()\n",
    "    score_lf_tr.append(-lf.score(ratings[train_idx, :-2], ratings[train_idx, -2]))\n",
    "    time_lf_tr_pre.append(time.clock() - _time)\n",
    "    \n",
    "    _time = time.clock()\n",
    "    score_lf_te.append(-lf.score(ratings[test_idx, :-2], ratings[test_idx, -2]))\n",
    "    time_lf_te_pre.append(time.clock() - _time)"
   ]
  },
  {
   "cell_type": "code",
   "execution_count": 440,
   "metadata": {
    "collapsed": false
   },
   "outputs": [
    {
     "data": {
      "text/plain": [
       "<matplotlib.legend.Legend at 0x130249748>"
      ]
     },
     "execution_count": 440,
     "metadata": {},
     "output_type": "execute_result"
    },
    {
     "data": {
      "image/png": "[encoded data removed]",
      "text/plain": [
       "<matplotlib.figure.Figure at 0x1300ac278>"
      ]
     },
     "metadata": {},
     "output_type": "display_data"
    }
   ],
   "source": [
    "plt.plot(range(10, 60, 10), score_lf_te, alpha=0.5, c='red', label='Quality on test')\n",
    "plt.scatter(range(10, 60, 10), score_lf_te, c='red', s=40)\n",
    "\n",
    "plt.plot(range(10, 60, 10), score_lf_tr, alpha=0.5, c='g', label='Quality on train')\n",
    "plt.scatter(range(10, 60, 10), score_lf_tr, c='g', s=40)\n",
    "\n",
    "plt.xlabel('K')\n",
    "plt.ylabel('MSE')\n",
    "plt.xlim(9, 51)\n",
    "plt.title('Latent factor')\n",
    "plt.legend(loc='best')"
   ]
  },
  {
   "cell_type": "markdown",
   "metadata": {},
   "source": [
    "На графике выше изображена зависимоть качества от размерности K пространства латентных признаков. Увеличение пространства латентных признаков не ведет к переобучению, но улучшает качество. Чем больше K, тем лучше качество. Но в случае контрольной выборки можно заметить, что после K=40 качество практический не изменяется. Следовательно для метода мы можем взять K=40"
   ]
  },
  {
   "cell_type": "code",
   "execution_count": 453,
   "metadata": {
    "collapsed": false
   },
   "outputs": [
    {
     "data": {
      "text/plain": [
       "<matplotlib.legend.Legend at 0x130afb470>"
      ]
     },
     "execution_count": 453,
     "metadata": {},
     "output_type": "execute_result"
    },
    {
     "data": {
      "image/png": "[encoded data removed]",
      "text/plain": [
       "<matplotlib.figure.Figure at 0x131002828>"
      ]
     },
     "metadata": {},
     "output_type": "display_data"
    }
   ],
   "source": [
    "plt.plot(range(10, 60, 10), time_lf_tr_pre, alpha=0.5, c='red', label='Quality on test')\n",
    "\n",
    "plt.plot(range(10, 60, 10), time_lf_te_pre, alpha=0.5, c='g', label='Quality on train')\n",
    "\n",
    "plt.xlabel('K')\n",
    "plt.ylabel('time, sec')\n",
    "plt.xlim(9, 51)\n",
    "plt.title('Latent factor')\n",
    "plt.legend(loc='best')"
   ]
  },
  {
   "cell_type": "markdown",
   "metadata": {},
   "source": [
    "Время работы метода практический не зависит от размерности пространства латентных признаков"
   ]
  },
  {
   "cell_type": "markdown",
   "metadata": {},
   "source": [
    "После кросс-валидаций и подбора N и K, оптимальными параметрами являются: N = 10, K = 40, L_p = 0.7, L_q = 0.0005. Далее проверим правильность подбора параметров: ошибка уменьшилась на $8.4 * 10^{-5}$. Но время работы увеличилось до 58 секунд (на 12 секунд дольше)"
   ]
  },
  {
   "cell_type": "markdown",
   "metadata": {},
   "source": [
    "Testing LatentFactorBased with best parametres"
   ]
  },
  {
   "cell_type": "code",
   "execution_count": 414,
   "metadata": {
    "collapsed": true
   },
   "outputs": [],
   "source": [
    "lf = LatendFactorBased(K=40)"
   ]
  },
  {
   "cell_type": "code",
   "execution_count": 415,
   "metadata": {
    "collapsed": false
   },
   "outputs": [
    {
     "data": {
      "text/plain": [
       "{'K': 40, 'L_p': 0.7, 'L_q': 0.0005, 'N': 10}"
      ]
     },
     "execution_count": 415,
     "metadata": {},
     "output_type": "execute_result"
    }
   ],
   "source": [
    "lf.get_params()"
   ]
  },
  {
   "cell_type": "code",
   "execution_count": 416,
   "metadata": {
    "collapsed": false
   },
   "outputs": [
    {
     "name": "stdout",
     "output_type": "stream",
     "text": [
      "57.911190999999235\n"
     ]
    }
   ],
   "source": [
    "_time = time.clock()\n",
    "lf.fit(ratings[train_idx, :-2], ratings[train_idx, -2])\n",
    "print(time.clock() - _time)"
   ]
  },
  {
   "cell_type": "code",
   "execution_count": 417,
   "metadata": {
    "collapsed": false
   },
   "outputs": [
    {
     "name": "stdout",
     "output_type": "stream",
     "text": [
      "6.380503000000317\n"
     ]
    }
   ],
   "source": [
    "_time = time.clock()\n",
    "pred = lf.predict(ratings[test_idx, :-2])\n",
    "print(time.clock() - _time)"
   ]
  },
  {
   "cell_type": "code",
   "execution_count": 418,
   "metadata": {
    "collapsed": false
   },
   "outputs": [
    {
     "data": {
      "text/plain": [
       "0.030295898982622135"
      ]
     },
     "execution_count": 418,
     "metadata": {},
     "output_type": "execute_result"
    }
   ],
   "source": [
    "np.mean((pred - ratings[test_idx, -2]) ** 2)"
   ]
  },
  {
   "cell_type": "markdown",
   "metadata": {},
   "source": [
    "<h3>Резюме по методу:</h3>\n",
    "* Обучение на методе работает ~58 секунд\n",
    "* Контроль на матоде работает ~6.5 секунд\n",
    "* Ошибка 0.030295898982622135"
   ]
  },
  {
   "cell_type": "markdown",
   "metadata": {},
   "source": [
    "<h1>Выводы</h1>\n",
    "Приведем сравнительную таблицу методов:\n",
    "\n",
    "<table>\n",
    "  <tr>\n",
    "    <td></td>\n",
    "    <td>Content-based</td>\n",
    "    <td>Neighborhood</td>\n",
    "    <td>Latent factor</td>\n",
    "  </tr>\n",
    "  <tr>\n",
    "    <td>Время обучения, сек</td>\n",
    "    <td>98</td>\n",
    "    <td>35</td> \n",
    "    <td>58</td>\n",
    "  </tr>\n",
    "  <tr>\n",
    "    <td>Время контроля, сек</td>\n",
    "    <td>15</td>\n",
    "    <td>35</td> \n",
    "    <td>6.5</td>\n",
    "  </tr>\n",
    "  <tr>\n",
    "    <td>Ошибка</td>\n",
    "    <td>0.0452351302146</td>\n",
    "    <td>0.0342283108932</td> \n",
    "    <td>0.0302958989826</td>\n",
    "  </tr>\n",
    "</table>\n",
    "\n",
    "Из таблицы можно увидеть, что лучший по качеству метод - laten factor. Но по времени обучения не самый быстрый. Но это не критично, т.к. обучение проходит не так часто, как получение ответа алгоритма. А по времени контроля этот метод самый быстрый, что является еще одним критерием выбора метода.\n",
    "\n",
    "Вторым идет метод Neighborhood. Время обучения и контроля одинаковое и не самое быстрое, но качество хорошее\n",
    "\n",
    "И наконец, последним идет метод Content-based. Время обучения долгое, качество худшее, как и сказано в тексте задания"
   ]
  }
 ],
 "metadata": {
  "kernelspec": {
   "display_name": "Python 3",
   "language": "python",
   "name": "python3"
  },
  "language_info": {
   "codemirror_mode": {
    "name": "ipython",
    "version": 3
   },
   "file_extension": ".py",
   "mimetype": "text/x-python",
   "name": "python",
   "nbconvert_exporter": "python",
   "pygments_lexer": "ipython3",
   "version": "3.4.3"
  }
 },
 "nbformat": 4,
 "nbformat_minor": 0
}
